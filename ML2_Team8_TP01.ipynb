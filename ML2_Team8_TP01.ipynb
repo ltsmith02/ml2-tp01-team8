{
  "cells": [
    {
      "cell_type": "markdown",
      "metadata": {
        "id": "XOCvOvkGZI5p"
      },
      "source": [
        "# Exercise 9.7.7"
      ]
    },
    {
      "cell_type": "markdown",
      "metadata": {
        "id": "PVNsDSO-zKO6"
      },
      "source": [
        "# Data Setup"
      ]
    },
    {
      "cell_type": "code",
      "execution_count": 1,
      "metadata": {
        "id": "mXwQ6WHhCaEQ"
      },
      "outputs": [],
      "source": [
        "## import required libraries \n",
        "\n",
        "import pandas as pd\n",
        "import numpy as np\n",
        "from sklearn.model_selection import train_test_split\n",
        "from sklearn.preprocessing import StandardScaler\n",
        "from sklearn import svm\n",
        "from sklearn.svm import SVC\n",
        "from sklearn.metrics import confusion_matrix\n",
        "from sklearn.model_selection import cross_val_score\n",
        "import matplotlib.pyplot as plt"
      ]
    },
    {
      "cell_type": "code",
      "execution_count": 2,
      "metadata": {
        "id": "yMYjsNfoDBME"
      },
      "outputs": [],
      "source": [
        "## import/load the auto dataset\n",
        "\n",
        "auto = pd.read_csv(\"https://archive.ics.uci.edu/ml/machine-learning-databases/auto-mpg/auto-mpg.data\", sep=\"\\s+\", header=None, na_values=\"?\")\n",
        "auto.columns = [\"mpg\", \"cylinders\", \"displacement\", \"horsepower\", \"weight\", \"acceleration\", \"year\", \"origin\", \"name\"] ## name columns\n",
        "auto = auto.dropna(axis=0) ## drop rows with missing values (6 rows -- all missing values in horsepower column)"
      ]
    },
    {
      "cell_type": "code",
      "execution_count": 3,
      "metadata": {
        "colab": {
          "base_uri": "https://localhost:8080/",
          "height": 206
        },
        "id": "9ALnrqm_c7yd",
        "outputId": "b1fc83e2-057d-493d-f2a1-1346b7cd09a7"
      },
      "outputs": [
        {
          "output_type": "execute_result",
          "data": {
            "text/plain": [
              "    mpg  cylinders  displacement  horsepower  weight  acceleration  year  \\\n",
              "0  18.0          8         307.0       130.0  3504.0          12.0    70   \n",
              "1  15.0          8         350.0       165.0  3693.0          11.5    70   \n",
              "2  18.0          8         318.0       150.0  3436.0          11.0    70   \n",
              "3  16.0          8         304.0       150.0  3433.0          12.0    70   \n",
              "4  17.0          8         302.0       140.0  3449.0          10.5    70   \n",
              "\n",
              "   origin                       name  \n",
              "0       1  chevrolet chevelle malibu  \n",
              "1       1          buick skylark 320  \n",
              "2       1         plymouth satellite  \n",
              "3       1              amc rebel sst  \n",
              "4       1                ford torino  "
            ],
            "text/html": [
              "\n",
              "  <div id=\"df-fcce033c-21dc-412f-b1c3-d1c41ce21ddc\">\n",
              "    <div class=\"colab-df-container\">\n",
              "      <div>\n",
              "<style scoped>\n",
              "    .dataframe tbody tr th:only-of-type {\n",
              "        vertical-align: middle;\n",
              "    }\n",
              "\n",
              "    .dataframe tbody tr th {\n",
              "        vertical-align: top;\n",
              "    }\n",
              "\n",
              "    .dataframe thead th {\n",
              "        text-align: right;\n",
              "    }\n",
              "</style>\n",
              "<table border=\"1\" class=\"dataframe\">\n",
              "  <thead>\n",
              "    <tr style=\"text-align: right;\">\n",
              "      <th></th>\n",
              "      <th>mpg</th>\n",
              "      <th>cylinders</th>\n",
              "      <th>displacement</th>\n",
              "      <th>horsepower</th>\n",
              "      <th>weight</th>\n",
              "      <th>acceleration</th>\n",
              "      <th>year</th>\n",
              "      <th>origin</th>\n",
              "      <th>name</th>\n",
              "    </tr>\n",
              "  </thead>\n",
              "  <tbody>\n",
              "    <tr>\n",
              "      <th>0</th>\n",
              "      <td>18.0</td>\n",
              "      <td>8</td>\n",
              "      <td>307.0</td>\n",
              "      <td>130.0</td>\n",
              "      <td>3504.0</td>\n",
              "      <td>12.0</td>\n",
              "      <td>70</td>\n",
              "      <td>1</td>\n",
              "      <td>chevrolet chevelle malibu</td>\n",
              "    </tr>\n",
              "    <tr>\n",
              "      <th>1</th>\n",
              "      <td>15.0</td>\n",
              "      <td>8</td>\n",
              "      <td>350.0</td>\n",
              "      <td>165.0</td>\n",
              "      <td>3693.0</td>\n",
              "      <td>11.5</td>\n",
              "      <td>70</td>\n",
              "      <td>1</td>\n",
              "      <td>buick skylark 320</td>\n",
              "    </tr>\n",
              "    <tr>\n",
              "      <th>2</th>\n",
              "      <td>18.0</td>\n",
              "      <td>8</td>\n",
              "      <td>318.0</td>\n",
              "      <td>150.0</td>\n",
              "      <td>3436.0</td>\n",
              "      <td>11.0</td>\n",
              "      <td>70</td>\n",
              "      <td>1</td>\n",
              "      <td>plymouth satellite</td>\n",
              "    </tr>\n",
              "    <tr>\n",
              "      <th>3</th>\n",
              "      <td>16.0</td>\n",
              "      <td>8</td>\n",
              "      <td>304.0</td>\n",
              "      <td>150.0</td>\n",
              "      <td>3433.0</td>\n",
              "      <td>12.0</td>\n",
              "      <td>70</td>\n",
              "      <td>1</td>\n",
              "      <td>amc rebel sst</td>\n",
              "    </tr>\n",
              "    <tr>\n",
              "      <th>4</th>\n",
              "      <td>17.0</td>\n",
              "      <td>8</td>\n",
              "      <td>302.0</td>\n",
              "      <td>140.0</td>\n",
              "      <td>3449.0</td>\n",
              "      <td>10.5</td>\n",
              "      <td>70</td>\n",
              "      <td>1</td>\n",
              "      <td>ford torino</td>\n",
              "    </tr>\n",
              "  </tbody>\n",
              "</table>\n",
              "</div>\n",
              "      <button class=\"colab-df-convert\" onclick=\"convertToInteractive('df-fcce033c-21dc-412f-b1c3-d1c41ce21ddc')\"\n",
              "              title=\"Convert this dataframe to an interactive table.\"\n",
              "              style=\"display:none;\">\n",
              "        \n",
              "  <svg xmlns=\"http://www.w3.org/2000/svg\" height=\"24px\"viewBox=\"0 0 24 24\"\n",
              "       width=\"24px\">\n",
              "    <path d=\"M0 0h24v24H0V0z\" fill=\"none\"/>\n",
              "    <path d=\"M18.56 5.44l.94 2.06.94-2.06 2.06-.94-2.06-.94-.94-2.06-.94 2.06-2.06.94zm-11 1L8.5 8.5l.94-2.06 2.06-.94-2.06-.94L8.5 2.5l-.94 2.06-2.06.94zm10 10l.94 2.06.94-2.06 2.06-.94-2.06-.94-.94-2.06-.94 2.06-2.06.94z\"/><path d=\"M17.41 7.96l-1.37-1.37c-.4-.4-.92-.59-1.43-.59-.52 0-1.04.2-1.43.59L10.3 9.45l-7.72 7.72c-.78.78-.78 2.05 0 2.83L4 21.41c.39.39.9.59 1.41.59.51 0 1.02-.2 1.41-.59l7.78-7.78 2.81-2.81c.8-.78.8-2.07 0-2.86zM5.41 20L4 18.59l7.72-7.72 1.47 1.35L5.41 20z\"/>\n",
              "  </svg>\n",
              "      </button>\n",
              "      \n",
              "  <style>\n",
              "    .colab-df-container {\n",
              "      display:flex;\n",
              "      flex-wrap:wrap;\n",
              "      gap: 12px;\n",
              "    }\n",
              "\n",
              "    .colab-df-convert {\n",
              "      background-color: #E8F0FE;\n",
              "      border: none;\n",
              "      border-radius: 50%;\n",
              "      cursor: pointer;\n",
              "      display: none;\n",
              "      fill: #1967D2;\n",
              "      height: 32px;\n",
              "      padding: 0 0 0 0;\n",
              "      width: 32px;\n",
              "    }\n",
              "\n",
              "    .colab-df-convert:hover {\n",
              "      background-color: #E2EBFA;\n",
              "      box-shadow: 0px 1px 2px rgba(60, 64, 67, 0.3), 0px 1px 3px 1px rgba(60, 64, 67, 0.15);\n",
              "      fill: #174EA6;\n",
              "    }\n",
              "\n",
              "    [theme=dark] .colab-df-convert {\n",
              "      background-color: #3B4455;\n",
              "      fill: #D2E3FC;\n",
              "    }\n",
              "\n",
              "    [theme=dark] .colab-df-convert:hover {\n",
              "      background-color: #434B5C;\n",
              "      box-shadow: 0px 1px 3px 1px rgba(0, 0, 0, 0.15);\n",
              "      filter: drop-shadow(0px 1px 2px rgba(0, 0, 0, 0.3));\n",
              "      fill: #FFFFFF;\n",
              "    }\n",
              "  </style>\n",
              "\n",
              "      <script>\n",
              "        const buttonEl =\n",
              "          document.querySelector('#df-fcce033c-21dc-412f-b1c3-d1c41ce21ddc button.colab-df-convert');\n",
              "        buttonEl.style.display =\n",
              "          google.colab.kernel.accessAllowed ? 'block' : 'none';\n",
              "\n",
              "        async function convertToInteractive(key) {\n",
              "          const element = document.querySelector('#df-fcce033c-21dc-412f-b1c3-d1c41ce21ddc');\n",
              "          const dataTable =\n",
              "            await google.colab.kernel.invokeFunction('convertToInteractive',\n",
              "                                                     [key], {});\n",
              "          if (!dataTable) return;\n",
              "\n",
              "          const docLinkHtml = 'Like what you see? Visit the ' +\n",
              "            '<a target=\"_blank\" href=https://colab.research.google.com/notebooks/data_table.ipynb>data table notebook</a>'\n",
              "            + ' to learn more about interactive tables.';\n",
              "          element.innerHTML = '';\n",
              "          dataTable['output_type'] = 'display_data';\n",
              "          await google.colab.output.renderOutput(dataTable, element);\n",
              "          const docLink = document.createElement('div');\n",
              "          docLink.innerHTML = docLinkHtml;\n",
              "          element.appendChild(docLink);\n",
              "        }\n",
              "      </script>\n",
              "    </div>\n",
              "  </div>\n",
              "  "
            ]
          },
          "metadata": {},
          "execution_count": 3
        }
      ],
      "source": [
        "## display first few rows of data\n",
        "\n",
        "auto.head()"
      ]
    },
    {
      "cell_type": "code",
      "execution_count": 4,
      "metadata": {
        "id": "ovUIDlihD8A6"
      },
      "outputs": [],
      "source": [
        "## create a binary variable that takes on a 1 for cars with gas mileage above the median, and a 0 for cars with gas mileage\n",
        "## below the median -- we use numpy to do this\n",
        "\n",
        "auto[\"mpg_high\"] = np.where(auto[\"mpg\"] >= auto[\"mpg\"].median(), 1, 0)"
      ]
    },
    {
      "cell_type": "code",
      "execution_count": 5,
      "metadata": {
        "id": "_eBQoJkrSXP6"
      },
      "outputs": [],
      "source": [
        "## split data into training and test sets\n",
        "\n",
        "X = auto.drop([\"mpg\", \"mpg_high\", \"name\"], axis=1) ## also need to remove non-numeric data (for scaling in next step)\n",
        "y = auto[\"mpg_high\"] ## y target\n",
        "X_train, X_test, y_train, y_test = train_test_split(X, y, test_size=0.3, random_state=1693)"
      ]
    },
    {
      "cell_type": "code",
      "execution_count": 6,
      "metadata": {
        "id": "5pYG_fOTdkdl"
      },
      "outputs": [],
      "source": [
        "## scale data -- necessary for SVC (sensative to scale) \n",
        "\n",
        "scaler = StandardScaler()\n",
        "X_train_scaled = scaler.fit_transform(X_train)\n",
        "X_test_scaled = scaler.transform(X_test) ## apply same transformation to test data "
      ]
    },
    {
      "cell_type": "markdown",
      "metadata": {
        "id": "PPU0Owu7y2xV"
      },
      "source": [
        "# Linear SVC"
      ]
    },
    {
      "cell_type": "code",
      "execution_count": 7,
      "metadata": {
        "colab": {
          "base_uri": "https://localhost:8080/"
        },
        "id": "Ff4khHGaSojV",
        "outputId": "674e7748-7457-45ea-a4e6-8bcbccc9c2fc"
      },
      "outputs": [
        {
          "output_type": "stream",
          "name": "stdout",
          "text": [
            "Cross-validation accuracy for linear SVC:\n",
            "Cost: 0.1 Error Rate: 0.08386243386243386\n",
            "Cost: 1 Error Rate: 0.07301587301587298\n",
            "Cost: 10 Error Rate: 0.07288359788359777\n",
            "Cost: 100 Error Rate: 0.07288359788359777\n",
            "Cost: 1000 Error Rate: 0.07288359788359777\n"
          ]
        }
      ],
      "source": [
        "## fit SVC model (LINEAR)\n",
        "## use various cost values to predict whether car gets high or low gas mileage (hyperparameter tuning) \n",
        "\n",
        "costs = [0.1, 1, 10, 100, 1000]\n",
        "cv_errors = []\n",
        "for cost in costs:\n",
        "    svc_linear = svm.SVC(kernel='linear', C=cost)\n",
        "    ## compute the CV accuracy using 10-fold cross-validation\n",
        "    ## the following line computes the mean accuracy score across the 10 folds\n",
        "    cv_error = np.mean(cross_val_score(svc_linear, X_train_scaled, y_train, cv=10, scoring='accuracy')) \n",
        "    cv_errors.append(1-cv_error)\n",
        "\n",
        "print(\"Cross-validation accuracy for linear SVC:\")\n",
        "for cost, error in zip(costs, cv_errors):\n",
        "    print(\"Cost:\", cost, \"Error Rate:\", error)"
      ]
    },
    {
      "cell_type": "markdown",
      "metadata": {
        "id": "zDsM0ThH2CMw"
      },
      "source": [
        "We can see that the model is pretty accurate and the cross validation errors are low. The best cost value (lowest CV error) would be 10."
      ]
    },
    {
      "cell_type": "code",
      "execution_count": 8,
      "metadata": {
        "colab": {
          "base_uri": "https://localhost:8080/",
          "height": 74
        },
        "id": "hpE5otOJiJAx",
        "outputId": "596272a0-f453-4834-adc4-5e84afe7c1ae"
      },
      "outputs": [
        {
          "output_type": "execute_result",
          "data": {
            "text/plain": [
              "SVC(C=10, kernel='linear')"
            ],
            "text/html": [
              "<style>#sk-container-id-1 {color: black;background-color: white;}#sk-container-id-1 pre{padding: 0;}#sk-container-id-1 div.sk-toggleable {background-color: white;}#sk-container-id-1 label.sk-toggleable__label {cursor: pointer;display: block;width: 100%;margin-bottom: 0;padding: 0.3em;box-sizing: border-box;text-align: center;}#sk-container-id-1 label.sk-toggleable__label-arrow:before {content: \"▸\";float: left;margin-right: 0.25em;color: #696969;}#sk-container-id-1 label.sk-toggleable__label-arrow:hover:before {color: black;}#sk-container-id-1 div.sk-estimator:hover label.sk-toggleable__label-arrow:before {color: black;}#sk-container-id-1 div.sk-toggleable__content {max-height: 0;max-width: 0;overflow: hidden;text-align: left;background-color: #f0f8ff;}#sk-container-id-1 div.sk-toggleable__content pre {margin: 0.2em;color: black;border-radius: 0.25em;background-color: #f0f8ff;}#sk-container-id-1 input.sk-toggleable__control:checked~div.sk-toggleable__content {max-height: 200px;max-width: 100%;overflow: auto;}#sk-container-id-1 input.sk-toggleable__control:checked~label.sk-toggleable__label-arrow:before {content: \"▾\";}#sk-container-id-1 div.sk-estimator input.sk-toggleable__control:checked~label.sk-toggleable__label {background-color: #d4ebff;}#sk-container-id-1 div.sk-label input.sk-toggleable__control:checked~label.sk-toggleable__label {background-color: #d4ebff;}#sk-container-id-1 input.sk-hidden--visually {border: 0;clip: rect(1px 1px 1px 1px);clip: rect(1px, 1px, 1px, 1px);height: 1px;margin: -1px;overflow: hidden;padding: 0;position: absolute;width: 1px;}#sk-container-id-1 div.sk-estimator {font-family: monospace;background-color: #f0f8ff;border: 1px dotted black;border-radius: 0.25em;box-sizing: border-box;margin-bottom: 0.5em;}#sk-container-id-1 div.sk-estimator:hover {background-color: #d4ebff;}#sk-container-id-1 div.sk-parallel-item::after {content: \"\";width: 100%;border-bottom: 1px solid gray;flex-grow: 1;}#sk-container-id-1 div.sk-label:hover label.sk-toggleable__label {background-color: #d4ebff;}#sk-container-id-1 div.sk-serial::before {content: \"\";position: absolute;border-left: 1px solid gray;box-sizing: border-box;top: 0;bottom: 0;left: 50%;z-index: 0;}#sk-container-id-1 div.sk-serial {display: flex;flex-direction: column;align-items: center;background-color: white;padding-right: 0.2em;padding-left: 0.2em;position: relative;}#sk-container-id-1 div.sk-item {position: relative;z-index: 1;}#sk-container-id-1 div.sk-parallel {display: flex;align-items: stretch;justify-content: center;background-color: white;position: relative;}#sk-container-id-1 div.sk-item::before, #sk-container-id-1 div.sk-parallel-item::before {content: \"\";position: absolute;border-left: 1px solid gray;box-sizing: border-box;top: 0;bottom: 0;left: 50%;z-index: -1;}#sk-container-id-1 div.sk-parallel-item {display: flex;flex-direction: column;z-index: 1;position: relative;background-color: white;}#sk-container-id-1 div.sk-parallel-item:first-child::after {align-self: flex-end;width: 50%;}#sk-container-id-1 div.sk-parallel-item:last-child::after {align-self: flex-start;width: 50%;}#sk-container-id-1 div.sk-parallel-item:only-child::after {width: 0;}#sk-container-id-1 div.sk-dashed-wrapped {border: 1px dashed gray;margin: 0 0.4em 0.5em 0.4em;box-sizing: border-box;padding-bottom: 0.4em;background-color: white;}#sk-container-id-1 div.sk-label label {font-family: monospace;font-weight: bold;display: inline-block;line-height: 1.2em;}#sk-container-id-1 div.sk-label-container {text-align: center;}#sk-container-id-1 div.sk-container {/* jupyter's `normalize.less` sets `[hidden] { display: none; }` but bootstrap.min.css set `[hidden] { display: none !important; }` so we also need the `!important` here to be able to override the default hidden behavior on the sphinx rendered scikit-learn.org. See: https://github.com/scikit-learn/scikit-learn/issues/21755 */display: inline-block !important;position: relative;}#sk-container-id-1 div.sk-text-repr-fallback {display: none;}</style><div id=\"sk-container-id-1\" class=\"sk-top-container\"><div class=\"sk-text-repr-fallback\"><pre>SVC(C=10, kernel=&#x27;linear&#x27;)</pre><b>In a Jupyter environment, please rerun this cell to show the HTML representation or trust the notebook. <br />On GitHub, the HTML representation is unable to render, please try loading this page with nbviewer.org.</b></div><div class=\"sk-container\" hidden><div class=\"sk-item\"><div class=\"sk-estimator sk-toggleable\"><input class=\"sk-toggleable__control sk-hidden--visually\" id=\"sk-estimator-id-1\" type=\"checkbox\" checked><label for=\"sk-estimator-id-1\" class=\"sk-toggleable__label sk-toggleable__label-arrow\">SVC</label><div class=\"sk-toggleable__content\"><pre>SVC(C=10, kernel=&#x27;linear&#x27;)</pre></div></div></div></div></div>"
            ]
          },
          "metadata": {},
          "execution_count": 8
        }
      ],
      "source": [
        "## fit SVC model with best cost on training data\n",
        "\n",
        "best_cost = costs[np.argmin(cv_errors)] ## find the cost value that produces the lowest CV error rate\n",
        "svc_linear = svm.SVC(kernel='linear', C=best_cost)\n",
        "svc_linear.fit(X_train_scaled, y_train)"
      ]
    },
    {
      "cell_type": "code",
      "execution_count": 9,
      "metadata": {
        "colab": {
          "base_uri": "https://localhost:8080/"
        },
        "id": "ZIdLQ0D_iNfh",
        "outputId": "99582130-7f0a-4f88-df0e-5f3769454b8f"
      },
      "outputs": [
        {
          "output_type": "stream",
          "name": "stdout",
          "text": [
            "Accuracy: 0.8813559322033898\n"
          ]
        }
      ],
      "source": [
        "## make predictions on test data and evaluate predictions\n",
        "\n",
        "y_pred = svc_linear.predict(X_test_scaled)\n",
        "accuracy = np.mean(y_pred == y_test)\n",
        "print(f\"Accuracy: {accuracy}\")"
      ]
    },
    {
      "cell_type": "code",
      "execution_count": 10,
      "metadata": {
        "colab": {
          "base_uri": "https://localhost:8080/"
        },
        "id": "ZmGqEF0aihcn",
        "outputId": "f61fcdb3-1ea4-44af-8784-382d04637895"
      },
      "outputs": [
        {
          "output_type": "stream",
          "name": "stdout",
          "text": [
            "Predicted class labels:  [0 1 0 1 1 1 0 1 0 1 1 0 0 0 0 1 1 0 1 0 0 1 0 1 0 1 0 1 1 1 1 1 1 0 0 1 1\n",
            " 0 0 0 0 1 0 1 1 1 1 1 1 1 1 0 1 1 1 0 1 1 0 0 1 0 1 0 1 1 0 0 1 0 1 1 0 1\n",
            " 1 0 0 1 1 0 0 1 0 1 1 0 0 0 1 0 1 1 1 0 0 1 0 1 1 1 1 1 0 0 0 0 0 0 1 1 0\n",
            " 0 0 0 0 0 0 1]\n"
          ]
        }
      ],
      "source": [
        "## print the predicted class labels\n",
        "\n",
        "print(\"Predicted class labels: \", y_pred)"
      ]
    },
    {
      "cell_type": "code",
      "execution_count": 11,
      "metadata": {
        "colab": {
          "base_uri": "https://localhost:8080/"
        },
        "id": "_5TWuiB0iRHQ",
        "outputId": "beaf6718-e672-4144-e334-42a7341b6683"
      },
      "outputs": [
        {
          "output_type": "stream",
          "name": "stdout",
          "text": [
            "Confusion Matrix:  [[52 10]\n",
            " [ 4 52]]\n"
          ]
        }
      ],
      "source": [
        "## confusion matrix\n",
        "\n",
        "conf_mat = confusion_matrix(y_test, y_pred)\n",
        "print(\"Confusion Matrix: \", conf_mat)"
      ]
    },
    {
      "cell_type": "markdown",
      "metadata": {
        "id": "dmVSHi_lzAoc"
      },
      "source": [
        "# Radial SVM"
      ]
    },
    {
      "cell_type": "code",
      "execution_count": 12,
      "metadata": {
        "colab": {
          "base_uri": "https://localhost:8080/"
        },
        "id": "wLeARPSTnxpM",
        "outputId": "fca79339-49bd-444e-a247-4c5e4d212227"
      },
      "outputs": [
        {
          "output_type": "stream",
          "name": "stdout",
          "text": [
            "Cost: 0.1 Gamma: 0.5 Error Rate: 0.08029100529100519\n",
            "Cost: 0.1 Gamma: 1 Error Rate: 0.09113756613756618\n",
            "Cost: 0.1 Gamma: 2 Error Rate: 0.2772486772486773\n",
            "Cost: 0.1 Gamma: 3 Error Rate: 0.47076719576719595\n",
            "Cost: 0.1 Gamma: 4 Error Rate: 0.48888888888888893\n",
            "Cost: 1 Gamma: 0.5 Error Rate: 0.07645502645502644\n",
            "Cost: 1 Gamma: 1 Error Rate: 0.07619047619047625\n",
            "Cost: 1 Gamma: 2 Error Rate: 0.08716931216931223\n",
            "Cost: 1 Gamma: 3 Error Rate: 0.09100529100529098\n",
            "Cost: 1 Gamma: 4 Error Rate: 0.09444444444444444\n",
            "Cost: 10 Gamma: 0.5 Error Rate: 0.072883597883598\n",
            "Cost: 10 Gamma: 1 Error Rate: 0.09470899470899474\n",
            "Cost: 10 Gamma: 2 Error Rate: 0.10224867724867726\n",
            "Cost: 10 Gamma: 3 Error Rate: 0.11309523809523814\n",
            "Cost: 10 Gamma: 4 Error Rate: 0.11679894179894179\n",
            "Cost: 100 Gamma: 0.5 Error Rate: 0.10621693121693121\n",
            "Cost: 100 Gamma: 1 Error Rate: 0.1059523809523808\n",
            "Cost: 100 Gamma: 2 Error Rate: 0.11322751322751334\n",
            "Cost: 100 Gamma: 3 Error Rate: 0.11679894179894179\n",
            "Cost: 100 Gamma: 4 Error Rate: 0.11679894179894179\n",
            "Cost: 1000 Gamma: 0.5 Error Rate: 0.12447089947089951\n",
            "Cost: 1000 Gamma: 1 Error Rate: 0.1059523809523808\n",
            "Cost: 1000 Gamma: 2 Error Rate: 0.11322751322751334\n",
            "Cost: 1000 Gamma: 3 Error Rate: 0.11679894179894179\n",
            "Cost: 1000 Gamma: 4 Error Rate: 0.11679894179894179\n"
          ]
        }
      ],
      "source": [
        "## fit SVC model (RADIAL)\n",
        "## use various cost and gamma values to predict whether car gets high or low gas mileage\n",
        "\n",
        "costs = [0.1, 1, 10, 100, 1000]\n",
        "gammas = [0.5, 1, 2, 3, 4] \n",
        "cv_errors_rad = []\n",
        "for cost in costs:\n",
        "    for gamma in gammas:\n",
        "        svc_rad = svm.SVC(kernel='rbf', C=cost, gamma=gamma)\n",
        "        cv_error = np.mean(cross_val_score(svc_rad, X_train_scaled, y_train, cv=10, scoring='accuracy'))\n",
        "        cv_errors_rad.append(1-cv_error)\n",
        "        print(\"Cost:\", cost, \"Gamma:\", gamma, \"Error Rate:\", 1-cv_error)"
      ]
    },
    {
      "cell_type": "markdown",
      "metadata": {
        "id": "20lzboLT2jQi"
      },
      "source": [
        "We can see that the model is pretty accurate and the cross validation errors are low. The best cost/gamma value (lowest CV error) would be cost = 10 and gamma = .5."
      ]
    },
    {
      "cell_type": "code",
      "execution_count": 13,
      "metadata": {
        "colab": {
          "base_uri": "https://localhost:8080/",
          "height": 74
        },
        "id": "OjYWWOi2oB0L",
        "outputId": "5870d9f0-25dd-4e95-fd79-d54f66c3e9b9"
      },
      "outputs": [
        {
          "output_type": "execute_result",
          "data": {
            "text/plain": [
              "SVC(C=10, gamma=0.5)"
            ],
            "text/html": [
              "<style>#sk-container-id-2 {color: black;background-color: white;}#sk-container-id-2 pre{padding: 0;}#sk-container-id-2 div.sk-toggleable {background-color: white;}#sk-container-id-2 label.sk-toggleable__label {cursor: pointer;display: block;width: 100%;margin-bottom: 0;padding: 0.3em;box-sizing: border-box;text-align: center;}#sk-container-id-2 label.sk-toggleable__label-arrow:before {content: \"▸\";float: left;margin-right: 0.25em;color: #696969;}#sk-container-id-2 label.sk-toggleable__label-arrow:hover:before {color: black;}#sk-container-id-2 div.sk-estimator:hover label.sk-toggleable__label-arrow:before {color: black;}#sk-container-id-2 div.sk-toggleable__content {max-height: 0;max-width: 0;overflow: hidden;text-align: left;background-color: #f0f8ff;}#sk-container-id-2 div.sk-toggleable__content pre {margin: 0.2em;color: black;border-radius: 0.25em;background-color: #f0f8ff;}#sk-container-id-2 input.sk-toggleable__control:checked~div.sk-toggleable__content {max-height: 200px;max-width: 100%;overflow: auto;}#sk-container-id-2 input.sk-toggleable__control:checked~label.sk-toggleable__label-arrow:before {content: \"▾\";}#sk-container-id-2 div.sk-estimator input.sk-toggleable__control:checked~label.sk-toggleable__label {background-color: #d4ebff;}#sk-container-id-2 div.sk-label input.sk-toggleable__control:checked~label.sk-toggleable__label {background-color: #d4ebff;}#sk-container-id-2 input.sk-hidden--visually {border: 0;clip: rect(1px 1px 1px 1px);clip: rect(1px, 1px, 1px, 1px);height: 1px;margin: -1px;overflow: hidden;padding: 0;position: absolute;width: 1px;}#sk-container-id-2 div.sk-estimator {font-family: monospace;background-color: #f0f8ff;border: 1px dotted black;border-radius: 0.25em;box-sizing: border-box;margin-bottom: 0.5em;}#sk-container-id-2 div.sk-estimator:hover {background-color: #d4ebff;}#sk-container-id-2 div.sk-parallel-item::after {content: \"\";width: 100%;border-bottom: 1px solid gray;flex-grow: 1;}#sk-container-id-2 div.sk-label:hover label.sk-toggleable__label {background-color: #d4ebff;}#sk-container-id-2 div.sk-serial::before {content: \"\";position: absolute;border-left: 1px solid gray;box-sizing: border-box;top: 0;bottom: 0;left: 50%;z-index: 0;}#sk-container-id-2 div.sk-serial {display: flex;flex-direction: column;align-items: center;background-color: white;padding-right: 0.2em;padding-left: 0.2em;position: relative;}#sk-container-id-2 div.sk-item {position: relative;z-index: 1;}#sk-container-id-2 div.sk-parallel {display: flex;align-items: stretch;justify-content: center;background-color: white;position: relative;}#sk-container-id-2 div.sk-item::before, #sk-container-id-2 div.sk-parallel-item::before {content: \"\";position: absolute;border-left: 1px solid gray;box-sizing: border-box;top: 0;bottom: 0;left: 50%;z-index: -1;}#sk-container-id-2 div.sk-parallel-item {display: flex;flex-direction: column;z-index: 1;position: relative;background-color: white;}#sk-container-id-2 div.sk-parallel-item:first-child::after {align-self: flex-end;width: 50%;}#sk-container-id-2 div.sk-parallel-item:last-child::after {align-self: flex-start;width: 50%;}#sk-container-id-2 div.sk-parallel-item:only-child::after {width: 0;}#sk-container-id-2 div.sk-dashed-wrapped {border: 1px dashed gray;margin: 0 0.4em 0.5em 0.4em;box-sizing: border-box;padding-bottom: 0.4em;background-color: white;}#sk-container-id-2 div.sk-label label {font-family: monospace;font-weight: bold;display: inline-block;line-height: 1.2em;}#sk-container-id-2 div.sk-label-container {text-align: center;}#sk-container-id-2 div.sk-container {/* jupyter's `normalize.less` sets `[hidden] { display: none; }` but bootstrap.min.css set `[hidden] { display: none !important; }` so we also need the `!important` here to be able to override the default hidden behavior on the sphinx rendered scikit-learn.org. See: https://github.com/scikit-learn/scikit-learn/issues/21755 */display: inline-block !important;position: relative;}#sk-container-id-2 div.sk-text-repr-fallback {display: none;}</style><div id=\"sk-container-id-2\" class=\"sk-top-container\"><div class=\"sk-text-repr-fallback\"><pre>SVC(C=10, gamma=0.5)</pre><b>In a Jupyter environment, please rerun this cell to show the HTML representation or trust the notebook. <br />On GitHub, the HTML representation is unable to render, please try loading this page with nbviewer.org.</b></div><div class=\"sk-container\" hidden><div class=\"sk-item\"><div class=\"sk-estimator sk-toggleable\"><input class=\"sk-toggleable__control sk-hidden--visually\" id=\"sk-estimator-id-2\" type=\"checkbox\" checked><label for=\"sk-estimator-id-2\" class=\"sk-toggleable__label sk-toggleable__label-arrow\">SVC</label><div class=\"sk-toggleable__content\"><pre>SVC(C=10, gamma=0.5)</pre></div></div></div></div></div>"
            ]
          },
          "metadata": {},
          "execution_count": 13
        }
      ],
      "source": [
        "## fit SVM model with best cost/gamma on training data\n",
        "\n",
        "best_cost_gamma = [(c, g) for c in costs for g in gammas][np.argmin(cv_errors_rad)]\n",
        "svc_rad = svm.SVC(kernel='rbf', C=best_cost_gamma[0], gamma=best_cost_gamma[1])\n",
        "svc_rad.fit(X_train_scaled, y_train)"
      ]
    },
    {
      "cell_type": "code",
      "execution_count": 14,
      "metadata": {
        "colab": {
          "base_uri": "https://localhost:8080/"
        },
        "id": "bwTZN_g9oUmd",
        "outputId": "dfb51d4f-b7c0-4f7b-b343-5bc12e678540"
      },
      "outputs": [
        {
          "output_type": "stream",
          "name": "stdout",
          "text": [
            "Accuracy: 0.9067796610169492\n"
          ]
        }
      ],
      "source": [
        "## make predictions on test data and evaluate predictions\n",
        "\n",
        "y_pred_rad = svc_rad.predict(X_test_scaled)\n",
        "accuracy_rad = np.mean(y_pred_rad == y_test)\n",
        "print(f\"Accuracy: {accuracy_rad}\")"
      ]
    },
    {
      "cell_type": "code",
      "execution_count": 15,
      "metadata": {
        "colab": {
          "base_uri": "https://localhost:8080/"
        },
        "id": "q0yoWaHeob9j",
        "outputId": "d3ddbc63-1324-4b22-c74b-8c153b1dc577"
      },
      "outputs": [
        {
          "output_type": "stream",
          "name": "stdout",
          "text": [
            "Predicted class labels:  [0 1 0 1 1 1 0 1 0 1 1 0 0 0 0 1 1 0 1 0 0 1 0 1 0 1 0 1 0 1 0 1 1 0 0 1 1\n",
            " 0 1 0 0 1 0 1 1 1 1 1 1 1 1 0 1 1 1 0 1 1 0 0 1 0 0 0 1 1 0 0 1 0 1 1 0 1\n",
            " 1 0 0 1 1 0 0 1 0 1 0 0 0 0 1 0 1 1 1 0 0 0 0 1 1 1 1 1 0 0 0 0 0 0 1 1 0\n",
            " 0 1 0 0 0 0 1]\n"
          ]
        }
      ],
      "source": [
        "## print the predicted class labels\n",
        "\n",
        "print(\"Predicted class labels: \", y_pred_rad)"
      ]
    },
    {
      "cell_type": "code",
      "execution_count": 16,
      "metadata": {
        "colab": {
          "base_uri": "https://localhost:8080/"
        },
        "id": "EHJbPVruokGY",
        "outputId": "9ee3925a-76cf-475e-8ca3-ad0a8a73968b"
      },
      "outputs": [
        {
          "output_type": "stream",
          "name": "stdout",
          "text": [
            "Confusion Matrix:  [[55  7]\n",
            " [ 4 52]]\n"
          ]
        }
      ],
      "source": [
        "## confusion matrix\n",
        "\n",
        "conf_mat_rad = confusion_matrix(y_test, y_pred_rad)\n",
        "print(\"Confusion Matrix: \", conf_mat_rad)"
      ]
    },
    {
      "cell_type": "markdown",
      "metadata": {
        "id": "vOyM3CeszEdW"
      },
      "source": [
        "# Polynomial SVM"
      ]
    },
    {
      "cell_type": "code",
      "execution_count": 17,
      "metadata": {
        "colab": {
          "base_uri": "https://localhost:8080/"
        },
        "id": "A-CC4842ooHS",
        "outputId": "5350e236-5dda-4cfc-e859-f60cbd8cfe9a"
      },
      "outputs": [
        {
          "output_type": "stream",
          "name": "stdout",
          "text": [
            "Cost: 0.1 Degree: 2 Error Rate: 0.27394179894179893\n",
            "Cost: 0.1 Degree: 3 Error Rate: 0.241005291005291\n",
            "Cost: 0.1 Degree: 4 Error Rate: 0.27380952380952395\n",
            "Cost: 0.1 Degree: 5 Error Rate: 0.24828042328042332\n",
            "Cost: 1 Degree: 2 Error Rate: 0.27010582010582007\n",
            "Cost: 1 Degree: 3 Error Rate: 0.10515873015873023\n",
            "Cost: 1 Degree: 4 Error Rate: 0.258994708994709\n",
            "Cost: 1 Degree: 5 Error Rate: 0.134920634920635\n",
            "Cost: 10 Degree: 2 Error Rate: 0.14907407407407403\n",
            "Cost: 10 Degree: 3 Error Rate: 0.08359788359788367\n",
            "Cost: 10 Degree: 4 Error Rate: 0.14880952380952395\n",
            "Cost: 10 Degree: 5 Error Rate: 0.1164021164021165\n",
            "Cost: 100 Degree: 2 Error Rate: 0.17460317460317454\n",
            "Cost: 100 Degree: 3 Error Rate: 0.08015873015873021\n",
            "Cost: 100 Degree: 4 Error Rate: 0.14960317460317474\n",
            "Cost: 100 Degree: 5 Error Rate: 0.1089947089947092\n",
            "Cost: 1000 Degree: 2 Error Rate: 0.16375661375661377\n",
            "Cost: 1000 Degree: 3 Error Rate: 0.1165343915343916\n",
            "Cost: 1000 Degree: 4 Error Rate: 0.1608465608465609\n",
            "Cost: 1000 Degree: 5 Error Rate: 0.10224867724867726\n"
          ]
        }
      ],
      "source": [
        "## fit SVM model (POLYNOMIAL)\n",
        "## use various cost and degree values to predict whether car gets high or low gas mileage\n",
        "\n",
        "costs = [0.1, 1, 10, 100, 1000]\n",
        "degrees = [2, 3, 4, 5]\n",
        "cv_errors_poly = []\n",
        "for cost in costs:\n",
        "    for degree in degrees:\n",
        "        svc_poly = svm.SVC(kernel='poly', C=cost, degree=degree)\n",
        "        cv_error = np.mean(cross_val_score(svc_poly, X_train_scaled, y_train, cv=10, scoring='accuracy'))\n",
        "        cv_errors_poly.append(1-cv_error)\n",
        "        print(\"Cost:\", cost, \"Degree:\", degree, \"Error Rate:\", 1-cv_error)\n"
      ]
    },
    {
      "cell_type": "markdown",
      "metadata": {
        "id": "fUpP7AW62rp0"
      },
      "source": [
        "We can see that the model is pretty accurate and the cross validation errors are low. The best cost/degree value (lowest CV error) would be cost = 100 and degree = 3."
      ]
    },
    {
      "cell_type": "code",
      "execution_count": 18,
      "metadata": {
        "colab": {
          "base_uri": "https://localhost:8080/",
          "height": 74
        },
        "id": "agRcYlZbpDUf",
        "outputId": "d6ec712c-6b46-4588-b484-fd1eb56c4c21"
      },
      "outputs": [
        {
          "output_type": "execute_result",
          "data": {
            "text/plain": [
              "SVC(C=100, kernel='poly')"
            ],
            "text/html": [
              "<style>#sk-container-id-3 {color: black;background-color: white;}#sk-container-id-3 pre{padding: 0;}#sk-container-id-3 div.sk-toggleable {background-color: white;}#sk-container-id-3 label.sk-toggleable__label {cursor: pointer;display: block;width: 100%;margin-bottom: 0;padding: 0.3em;box-sizing: border-box;text-align: center;}#sk-container-id-3 label.sk-toggleable__label-arrow:before {content: \"▸\";float: left;margin-right: 0.25em;color: #696969;}#sk-container-id-3 label.sk-toggleable__label-arrow:hover:before {color: black;}#sk-container-id-3 div.sk-estimator:hover label.sk-toggleable__label-arrow:before {color: black;}#sk-container-id-3 div.sk-toggleable__content {max-height: 0;max-width: 0;overflow: hidden;text-align: left;background-color: #f0f8ff;}#sk-container-id-3 div.sk-toggleable__content pre {margin: 0.2em;color: black;border-radius: 0.25em;background-color: #f0f8ff;}#sk-container-id-3 input.sk-toggleable__control:checked~div.sk-toggleable__content {max-height: 200px;max-width: 100%;overflow: auto;}#sk-container-id-3 input.sk-toggleable__control:checked~label.sk-toggleable__label-arrow:before {content: \"▾\";}#sk-container-id-3 div.sk-estimator input.sk-toggleable__control:checked~label.sk-toggleable__label {background-color: #d4ebff;}#sk-container-id-3 div.sk-label input.sk-toggleable__control:checked~label.sk-toggleable__label {background-color: #d4ebff;}#sk-container-id-3 input.sk-hidden--visually {border: 0;clip: rect(1px 1px 1px 1px);clip: rect(1px, 1px, 1px, 1px);height: 1px;margin: -1px;overflow: hidden;padding: 0;position: absolute;width: 1px;}#sk-container-id-3 div.sk-estimator {font-family: monospace;background-color: #f0f8ff;border: 1px dotted black;border-radius: 0.25em;box-sizing: border-box;margin-bottom: 0.5em;}#sk-container-id-3 div.sk-estimator:hover {background-color: #d4ebff;}#sk-container-id-3 div.sk-parallel-item::after {content: \"\";width: 100%;border-bottom: 1px solid gray;flex-grow: 1;}#sk-container-id-3 div.sk-label:hover label.sk-toggleable__label {background-color: #d4ebff;}#sk-container-id-3 div.sk-serial::before {content: \"\";position: absolute;border-left: 1px solid gray;box-sizing: border-box;top: 0;bottom: 0;left: 50%;z-index: 0;}#sk-container-id-3 div.sk-serial {display: flex;flex-direction: column;align-items: center;background-color: white;padding-right: 0.2em;padding-left: 0.2em;position: relative;}#sk-container-id-3 div.sk-item {position: relative;z-index: 1;}#sk-container-id-3 div.sk-parallel {display: flex;align-items: stretch;justify-content: center;background-color: white;position: relative;}#sk-container-id-3 div.sk-item::before, #sk-container-id-3 div.sk-parallel-item::before {content: \"\";position: absolute;border-left: 1px solid gray;box-sizing: border-box;top: 0;bottom: 0;left: 50%;z-index: -1;}#sk-container-id-3 div.sk-parallel-item {display: flex;flex-direction: column;z-index: 1;position: relative;background-color: white;}#sk-container-id-3 div.sk-parallel-item:first-child::after {align-self: flex-end;width: 50%;}#sk-container-id-3 div.sk-parallel-item:last-child::after {align-self: flex-start;width: 50%;}#sk-container-id-3 div.sk-parallel-item:only-child::after {width: 0;}#sk-container-id-3 div.sk-dashed-wrapped {border: 1px dashed gray;margin: 0 0.4em 0.5em 0.4em;box-sizing: border-box;padding-bottom: 0.4em;background-color: white;}#sk-container-id-3 div.sk-label label {font-family: monospace;font-weight: bold;display: inline-block;line-height: 1.2em;}#sk-container-id-3 div.sk-label-container {text-align: center;}#sk-container-id-3 div.sk-container {/* jupyter's `normalize.less` sets `[hidden] { display: none; }` but bootstrap.min.css set `[hidden] { display: none !important; }` so we also need the `!important` here to be able to override the default hidden behavior on the sphinx rendered scikit-learn.org. See: https://github.com/scikit-learn/scikit-learn/issues/21755 */display: inline-block !important;position: relative;}#sk-container-id-3 div.sk-text-repr-fallback {display: none;}</style><div id=\"sk-container-id-3\" class=\"sk-top-container\"><div class=\"sk-text-repr-fallback\"><pre>SVC(C=100, kernel=&#x27;poly&#x27;)</pre><b>In a Jupyter environment, please rerun this cell to show the HTML representation or trust the notebook. <br />On GitHub, the HTML representation is unable to render, please try loading this page with nbviewer.org.</b></div><div class=\"sk-container\" hidden><div class=\"sk-item\"><div class=\"sk-estimator sk-toggleable\"><input class=\"sk-toggleable__control sk-hidden--visually\" id=\"sk-estimator-id-3\" type=\"checkbox\" checked><label for=\"sk-estimator-id-3\" class=\"sk-toggleable__label sk-toggleable__label-arrow\">SVC</label><div class=\"sk-toggleable__content\"><pre>SVC(C=100, kernel=&#x27;poly&#x27;)</pre></div></div></div></div></div>"
            ]
          },
          "metadata": {},
          "execution_count": 18
        }
      ],
      "source": [
        "## fit SVM model with best cost/degree on training data\n",
        "\n",
        "best_cost_degree = [(c, d) for c in costs for d in degrees][np.argmin(cv_errors_poly)]\n",
        "svc_poly = svm.SVC(kernel='poly', C=best_cost_degree[0], degree=best_cost_degree[1])\n",
        "svc_poly.fit(X_train_scaled, y_train)"
      ]
    },
    {
      "cell_type": "code",
      "execution_count": 19,
      "metadata": {
        "colab": {
          "base_uri": "https://localhost:8080/"
        },
        "id": "LbX1g8ktpgyF",
        "outputId": "98fb2152-0f3d-4bc9-d624-9c953e0d59c3"
      },
      "outputs": [
        {
          "output_type": "stream",
          "name": "stdout",
          "text": [
            "Accuracy: 0.923728813559322\n"
          ]
        }
      ],
      "source": [
        "## make predictions on test data and evaluate predictions\n",
        "\n",
        "y_pred_poly = svc_poly.predict(X_test_scaled)\n",
        "accuracy_poly = np.mean(y_pred_poly == y_test)\n",
        "print(f\"Accuracy: {accuracy_poly}\")"
      ]
    },
    {
      "cell_type": "code",
      "execution_count": 20,
      "metadata": {
        "colab": {
          "base_uri": "https://localhost:8080/"
        },
        "id": "EUcFu0sspmfF",
        "outputId": "3980929f-bdf4-4f07-9376-5c6fac6b279a"
      },
      "outputs": [
        {
          "output_type": "stream",
          "name": "stdout",
          "text": [
            "Predicted class labels:  [0 1 0 1 1 1 0 1 0 1 1 0 0 0 0 1 1 0 1 0 0 1 0 1 0 1 0 1 0 1 1 1 1 0 0 1 1\n",
            " 0 0 0 0 1 0 1 1 1 1 1 1 1 1 0 1 1 1 0 1 1 0 0 1 0 0 0 1 1 0 0 0 0 1 1 0 1\n",
            " 1 0 0 1 1 0 0 1 0 1 0 0 0 0 1 0 1 1 1 0 0 0 0 1 1 1 1 1 0 0 0 0 0 0 1 1 0\n",
            " 0 0 0 0 0 0 1]\n"
          ]
        }
      ],
      "source": [
        "## print the predicted class labels\n",
        "\n",
        "print(\"Predicted class labels: \", y_pred_poly)"
      ]
    },
    {
      "cell_type": "code",
      "execution_count": 21,
      "metadata": {
        "colab": {
          "base_uri": "https://localhost:8080/"
        },
        "id": "ylS1e2WFpphG",
        "outputId": "a09912f5-17d2-442a-bf32-fecb24e3372d"
      },
      "outputs": [
        {
          "output_type": "stream",
          "name": "stdout",
          "text": [
            "Confusion Matrix:  [[57  5]\n",
            " [ 4 52]]\n"
          ]
        }
      ],
      "source": [
        "## confusion matrix\n",
        "\n",
        "conf_mat_poly = confusion_matrix(y_test, y_pred_poly)\n",
        "print(\"Confusion Matrix: \", conf_mat_poly)"
      ]
    },
    {
      "cell_type": "markdown",
      "metadata": {
        "id": "pUmUd4DK0yv8"
      },
      "source": [
        "# Graphs & Summary"
      ]
    },
    {
      "cell_type": "code",
      "execution_count": 22,
      "metadata": {
        "colab": {
          "base_uri": "https://localhost:8080/",
          "height": 472
        },
        "id": "RutcbKdhrwY0",
        "outputId": "74a9f087-4044-4159-ccd3-cf8645621dff"
      },
      "outputs": [
        {
          "output_type": "display_data",
          "data": {
            "text/plain": [
              "<Figure size 640x480 with 1 Axes>"
            ],
            "image/png": "[encoded data removed]"
          },
          "metadata": {}
        }
      ],
      "source": [
        "## plot the cross-validation errors for the linear SVC\n",
        "\n",
        "costs_2 = costs[0:3] ## only showing cost values of 0.1, 1, 10 to make the graph not as spread out\n",
        "cv_errors = cv_errors[0:3]\n",
        "plt.plot(costs_2, cv_errors)\n",
        "plt.xlabel('Cost')\n",
        "plt.ylabel('Error Rate')\n",
        "plt.title('Cross-validation errors for linear SVC')\n",
        "plt.show()"
      ]
    },
    {
      "cell_type": "code",
      "execution_count": 23,
      "metadata": {
        "colab": {
          "base_uri": "https://localhost:8080/",
          "height": 476
        },
        "id": "bNfsQt049QhD",
        "outputId": "66b51194-904a-49c9-a158-a78332a34010"
      },
      "outputs": [
        {
          "output_type": "display_data",
          "data": {
            "text/plain": [
              "<Figure size 640x480 with 1 Axes>"
            ],
            "image/png": "[encoded data removed]"
          },
          "metadata": {}
        }
      ],
      "source": [
        "## plot the cross-validation errors for the radial SVM\n",
        "\n",
        "## reshape the data for plotting\n",
        "\n",
        "cv_errors_rad = np.array(cv_errors_rad).reshape(len(costs), len(gammas))\n",
        "\n",
        "## plot the cost values versus the cross-validation error rate\n",
        "\n",
        "fig, ax = plt.subplots()\n",
        "for i, cost in enumerate(costs): ## enumerate will iterate over the cost list and keep track of the index values too\n",
        "    ax.plot(gammas, cv_errors_rad[i,:], label=f'Cost={cost}')\n",
        "ax.set_xscale('log')\n",
        "ax.set_xlabel('Gamma')\n",
        "ax.set_ylabel('Error Rate')\n",
        "ax.set_title('Cross-validation errors vs. Gamma for Radial SVM')\n",
        "ax.legend()\n",
        "plt.show()"
      ]
    },
    {
      "cell_type": "code",
      "execution_count": 24,
      "metadata": {
        "colab": {
          "base_uri": "https://localhost:8080/",
          "height": 472
        },
        "id": "w_nen-WT1eyn",
        "outputId": "5ab6dbcb-f34d-48b6-8635-888e75c78267"
      },
      "outputs": [
        {
          "output_type": "display_data",
          "data": {
            "text/plain": [
              "<Figure size 640x480 with 1 Axes>"
            ],
            "image/png": "[encoded data removed]"
          },
          "metadata": {}
        }
      ],
      "source": [
        "## plot the cross-validation errors for the polynomial SVM\n",
        "\n",
        "## reshape the data for plotting\n",
        "\n",
        "cv_errors_poly = np.array(cv_errors_poly).reshape(len(costs), len(degrees))\n",
        "\n",
        "## plot the cost values versus the cross-validation error rate\n",
        "\n",
        "fig, ax = plt.subplots()\n",
        "for i, cost in enumerate(costs):\n",
        "    ax.plot(degrees, cv_errors_poly[i,:], label=f'Cost={cost}')\n",
        "ax.set_xlabel('Degree')\n",
        "ax.set_ylabel('Error Rate')\n",
        "ax.set_title('Cross-validation errors vs. Degree for Polynomial SVM')\n",
        "ax.legend()\n",
        "plt.show()"
      ]
    },
    {
      "cell_type": "code",
      "execution_count": 25,
      "metadata": {
        "colab": {
          "base_uri": "https://localhost:8080/"
        },
        "id": "KuNh8F2Oze-Y",
        "outputId": "6e54287e-b901-4fc6-c53f-66ac45c94a03"
      },
      "outputs": [
        {
          "output_type": "stream",
          "name": "stdout",
          "text": [
            "Linear SVC:\n",
            "Cost: 10, CV Error Rate: 0.07288359788359777\n",
            "\n",
            "Radial SVM:\n",
            "Cost: 10, Gamma: 0.5, CV Error Rate: 0.072883597883598\n",
            "\n",
            "Polynomial SVM:\n",
            "Cost: 100, Degree: 3, CV Error Rate: 0.08015873015873021\n"
          ]
        }
      ],
      "source": [
        "print(\"Linear SVC:\")\n",
        "print(f\"Cost: {best_cost}, CV Error Rate: 0.07288359788359777\")\n",
        "print()\n",
        "\n",
        "print(\"Radial SVM:\")\n",
        "print(f\"Cost: {best_cost_gamma[0]}, Gamma: {best_cost_gamma[1]}, CV Error Rate: 0.072883597883598\")\n",
        "print()\n",
        "\n",
        "print(\"Polynomial SVM:\")\n",
        "print(f\"Cost: {best_cost_degree[0]}, Degree: {best_cost_degree[1]}, CV Error Rate: 0.08015873015873021\")"
      ]
    },
    {
      "cell_type": "markdown",
      "metadata": {
        "id": "J8VdeRoObq0Q"
      },
      "source": [
        "# PollEV"
      ]
    },
    {
      "cell_type": "markdown",
      "metadata": {
        "id": "H-S5IsVbbvRK"
      },
      "source": [
        "https://pollev.com/cynthiamarqueztuesta471"
      ]
    }
  ],
  "metadata": {
    "colab": {
      "provenance": []
    },
    "kernelspec": {
      "display_name": "Python 3",
      "name": "python3"
    },
    "language_info": {
      "name": "python"
    }
  },
  "nbformat": 4,
  "nbformat_minor": 0
}